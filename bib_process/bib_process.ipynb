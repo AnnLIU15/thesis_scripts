{
 "cells": [
  {
   "cell_type": "code",
   "execution_count": null,
   "metadata": {},
   "outputs": [],
   "source": [
    "!pip install bibtexparser\n",
    "# version: 0.0.1\n",
    "# date: 2024/04/11\n",
    "# python: 3.10\n",
    "# author: zhy6"
   ]
  },
  {
   "cell_type": "markdown",
   "metadata": {},
   "source": [
    "## 参考文献\n",
    "% 本模板文后参考文献格式采用国家标准《文后参考文献著录规则》中的标准形式\n",
    "%参考文献是毕业设计(论文)不可缺少的组成部分，它反映毕业设计(论文)的取材来源、材料的广博程度和材料的可靠程度，也是作者对他人知识成果的承认和尊重。一份完整的参考文献可向读者提供一份有价值的信息资料。\n",
    "%“参考文献”为论文中所有引文、引用观点以及对论文有重要影响和启发的文献\n",
    "%参考文献出处最好为高档次杂志期刊及会议论文：\n",
    "%毕业论文中，参考所涉及到的网络文章、政府文件等非标准文献，在文中以脚注形式出现。\n",
    "%不要大量引用博士硕士论文\n",
    "%%\n",
    "\n",
    "%%%%%%%%%%%%%%%%%%%%%%%%%%%%%%%%%%%%%%%%%%%%%%%%%%%%%%%%%%%%%%%%%%%%%%%%%%%%%%%%%%%%%%%%%%%%%%%%%%%%%%%%%%%%%\n",
    "%%！！根据学院老师要求，英文作者名字只需首字母大写，所以请大家如示例所示只将英文作者姓氏首字母大写，并加一个大括号！！\n",
    "%%！！！如果需要加入网址（url)且网址中出现%等特殊符号，需要与正文一样在其前面添加“\\”，否则会出错！！！\n",
    "%%%%%%%%%%%%%%%%%%%%%%%%%%%%%%%%%%%%%%%%%%%%%%%%%%%%%%%%%%%%%%%%%%%%%%%%%%%%%%%%%%%%%%%%%%%%%%%%%%%%%%%%%%%%%\n"
   ]
  },
  {
   "cell_type": "code",
   "execution_count": 5,
   "metadata": {},
   "outputs": [],
   "source": [
    "import os\n",
    "import bibtexparser\n",
    "from bibtexparser.bparser import BibTexParser\n",
    "# 获取当前笔记本文件的路径\n",
    "notebook_path = os.path.dirname(os.path.abspath(\"__file__\"))\n",
    "# 更改当前工作目录\n",
    "os.chdir(notebook_path)\n",
    "from utils import (replace_text, chinese_to_english_mapping,\n",
    "                   check_key, upper_name, title_process)\n",
    "\n",
    "\n",
    "factor_pre = 1 # 双大括号形式 (2) or 单大括号形式 (1)\n",
    "title_process_flag = True\n",
    "in_bib = 'test/Reference.bib'\n",
    "out_bib = 'test/Reference1.bib'\n",
    "\n",
    "with open(in_bib, 'r', encoding='utf-8') as file:\n",
    "    content = file.read()\n",
    "# 替换中文字符\n",
    "content = replace_text(content, chinese_to_english_mapping)\n",
    "\n",
    "# 处理替换后的内容\n",
    "# 这里的 content 已经没有原始的中文字符了，可以安全地送入 bibtexparser 或其他处理流程\n",
    "parser = BibTexParser(ignore_nonstandard_types=False)\n",
    "bib_database = bibtexparser.loads(content, parser=parser)\n",
    "\n",
    "# bib_database.entries是一个包含条目的字典列表\n",
    "# 将其转换为一个字典，其中键是每个条目的ID\n",
    "# entries_dict = {entry['ID']: entry for entry in bib_database.entries}\n",
    "\n",
    "# 修改字典中的条目\n",
    "for entry in bib_database.entries:\n",
    "    # if entry['ENTRYTYPE'].lower() in ['masterthesis', 'patent', 'online', 'standard']:\n",
    "    #     entry['ENTRYTYPE'] = 'misc'\n",
    "        # 这里可以进行其他修改\n",
    "        # publisher\n",
    "    replace_key_entry = check_key(entry)\n",
    "    upper_last_name_entry = upper_name(replace_key_entry, factor_pre)\n",
    "    if title_process_flag:\n",
    "        upper_last_name_entry = title_process(upper_last_name_entry, factor_pre)\n",
    "    entry.update(upper_last_name_entry)\n",
    "    \n",
    "\n",
    "# 将修改后的字典转换回列表\n",
    "# bib_database.entries = list(entries_dict.values())\n",
    "\n",
    "# 保存修改后的BibTeX文件\n",
    "with open(out_bib, 'w', encoding='utf8') as bibtex_file:\n",
    "    bibtexparser.dump(bib_database, bibtex_file)"
   ]
  }
 ],
 "metadata": {
  "kernelspec": {
   "display_name": "base",
   "language": "python",
   "name": "python3"
  },
  "language_info": {
   "codemirror_mode": {
    "name": "ipython",
    "version": 3
   },
   "file_extension": ".py",
   "mimetype": "text/x-python",
   "name": "python",
   "nbconvert_exporter": "python",
   "pygments_lexer": "ipython3",
   "version": "3.10.13"
  }
 },
 "nbformat": 4,
 "nbformat_minor": 2
}
